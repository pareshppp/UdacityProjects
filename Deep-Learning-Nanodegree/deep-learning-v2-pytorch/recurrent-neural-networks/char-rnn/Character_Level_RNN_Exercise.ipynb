{
 "cells": [
  {
   "cell_type": "markdown",
   "metadata": {},
   "source": [
    "# Character-Level LSTM in PyTorch\n",
    "\n",
    "In this notebook, I'll construct a character-level LSTM with PyTorch. The network will train character by character on some text, then generate new text character by character. As an example, I will train on Anna Karenina. **This model will be able to generate new text based on the text from the book!**\n",
    "\n",
    "This network is based off of Andrej Karpathy's [post on RNNs](http://karpathy.github.io/2015/05/21/rnn-effectiveness/) and [implementation in Torch](https://github.com/karpathy/char-rnn). Below is the general architecture of the character-wise RNN.\n",
    "\n",
    "<img src=\"assets/charseq.jpeg\" width=\"500\">"
   ]
  },
  {
   "cell_type": "markdown",
   "metadata": {},
   "source": [
    "First let's load in our required resources for data loading and model creation."
   ]
  },
  {
   "cell_type": "code",
   "execution_count": 1,
   "metadata": {},
   "outputs": [],
   "source": [
    "import numpy as np\n",
    "import torch\n",
    "from torch import nn\n",
    "import torch.nn.functional as F"
   ]
  },
  {
   "cell_type": "markdown",
   "metadata": {},
   "source": [
    "## Load in Data\n",
    "\n",
    "Then, we'll load the Anna Karenina text file and convert it into integers for our network to use. "
   ]
  },
  {
   "cell_type": "code",
   "execution_count": 2,
   "metadata": {},
   "outputs": [],
   "source": [
    "# open text file and read in data as `text`\n",
    "with open('data/anna.txt', 'r') as f:\n",
    "    text = f.read()"
   ]
  },
  {
   "cell_type": "markdown",
   "metadata": {},
   "source": [
    "Let's check out the first 100 characters, make sure everything is peachy. According to the [American Book Review](http://americanbookreview.org/100bestlines.asp), this is the 6th best first line of a book ever."
   ]
  },
  {
   "cell_type": "code",
   "execution_count": 3,
   "metadata": {},
   "outputs": [
    {
     "data": {
      "text/plain": [
       "'Chapter 1\\n\\n\\nHappy families are all alike; every unhappy family is unhappy in its own\\nway.\\n\\nEverythin'"
      ]
     },
     "execution_count": 3,
     "metadata": {},
     "output_type": "execute_result"
    }
   ],
   "source": [
    "text[:100]"
   ]
  },
  {
   "cell_type": "markdown",
   "metadata": {},
   "source": [
    "### Tokenization\n",
    "\n",
    "In the cells, below, I'm creating a couple **dictionaries** to convert the characters to and from integers. Encoding the characters as integers makes it easier to use as input in the network."
   ]
  },
  {
   "cell_type": "code",
   "execution_count": 4,
   "metadata": {},
   "outputs": [],
   "source": [
    "# encode the text and map each character to an integer and vice versa\n",
    "\n",
    "# we create two dictionaries:\n",
    "# 1. int2char, which maps integers to characters\n",
    "# 2. char2int, which maps characters to unique integers\n",
    "chars = tuple(set(text))\n",
    "int2char = dict(enumerate(chars))\n",
    "char2int = {ch: ii for ii, ch in int2char.items()}\n",
    "\n",
    "# encode the text\n",
    "encoded = np.array([char2int[ch] for ch in text])"
   ]
  },
  {
   "cell_type": "markdown",
   "metadata": {},
   "source": [
    "And we can see those same characters from above, encoded as integers."
   ]
  },
  {
   "cell_type": "code",
   "execution_count": 5,
   "metadata": {},
   "outputs": [
    {
     "data": {
      "text/plain": [
       "array([18, 59, 30, 61, 73,  7,  9,  4, 55, 74, 74, 74,  6, 30, 61, 61, 10,\n",
       "        4, 56, 30, 27,  0, 36,  0,  7, 81,  4, 30,  9,  7,  4, 30, 36, 36,\n",
       "        4, 30, 36,  0,  1,  7, 67,  4,  7, 37,  7,  9, 10,  4, 13, 45, 59,\n",
       "       30, 61, 61, 10,  4, 56, 30, 27,  0, 36, 10,  4,  0, 81,  4, 13, 45,\n",
       "       59, 30, 61, 61, 10,  4,  0, 45,  4,  0, 73, 81,  4, 32, 80, 45, 74,\n",
       "       80, 30, 10, 11, 74, 74, 71, 37,  7,  9, 10, 73, 59,  0, 45])"
      ]
     },
     "execution_count": 5,
     "metadata": {},
     "output_type": "execute_result"
    }
   ],
   "source": [
    "encoded[:100]"
   ]
  },
  {
   "cell_type": "code",
   "execution_count": 6,
   "metadata": {},
   "outputs": [
    {
     "data": {
      "text/plain": [
       "82"
      ]
     },
     "execution_count": 6,
     "metadata": {},
     "output_type": "execute_result"
    }
   ],
   "source": [
    "encoded.max()"
   ]
  },
  {
   "cell_type": "code",
   "execution_count": 7,
   "metadata": {},
   "outputs": [
    {
     "data": {
      "text/plain": [
       "{0: 'i',\n",
       " 1: 'k',\n",
       " 2: 'd',\n",
       " 3: '/',\n",
       " 4: ' ',\n",
       " 5: 'c',\n",
       " 6: 'H',\n",
       " 7: 'e',\n",
       " 8: '9',\n",
       " 9: 'r',\n",
       " 10: 'y',\n",
       " 11: '.',\n",
       " 12: 'Y',\n",
       " 13: 'u',\n",
       " 14: '!',\n",
       " 15: 'x',\n",
       " 16: '7',\n",
       " 17: '`',\n",
       " 18: 'C',\n",
       " 19: 'V',\n",
       " 20: 'M',\n",
       " 21: 'Z',\n",
       " 22: \"'\",\n",
       " 23: ':',\n",
       " 24: '2',\n",
       " 25: '-',\n",
       " 26: '5',\n",
       " 27: 'm',\n",
       " 28: '6',\n",
       " 29: 'X',\n",
       " 30: 'a',\n",
       " 31: 'T',\n",
       " 32: 'o',\n",
       " 33: 'S',\n",
       " 34: 'O',\n",
       " 35: 'B',\n",
       " 36: 'l',\n",
       " 37: 'v',\n",
       " 38: ',',\n",
       " 39: 'j',\n",
       " 40: 'A',\n",
       " 41: 'W',\n",
       " 42: 'G',\n",
       " 43: 'I',\n",
       " 44: 'R',\n",
       " 45: 'n',\n",
       " 46: '*',\n",
       " 47: '@',\n",
       " 48: 'U',\n",
       " 49: '3',\n",
       " 50: '8',\n",
       " 51: 'K',\n",
       " 52: 'P',\n",
       " 53: 'g',\n",
       " 54: '(',\n",
       " 55: '1',\n",
       " 56: 'f',\n",
       " 57: '\"',\n",
       " 58: ')',\n",
       " 59: 'h',\n",
       " 60: 'z',\n",
       " 61: 'p',\n",
       " 62: 'L',\n",
       " 63: 'J',\n",
       " 64: 'b',\n",
       " 65: '4',\n",
       " 66: 'N',\n",
       " 67: ';',\n",
       " 68: '0',\n",
       " 69: 'Q',\n",
       " 70: '%',\n",
       " 71: 'E',\n",
       " 72: '$',\n",
       " 73: 't',\n",
       " 74: '\\n',\n",
       " 75: 'q',\n",
       " 76: '&',\n",
       " 77: '_',\n",
       " 78: 'D',\n",
       " 79: '?',\n",
       " 80: 'w',\n",
       " 81: 's',\n",
       " 82: 'F'}"
      ]
     },
     "execution_count": 7,
     "metadata": {},
     "output_type": "execute_result"
    }
   ],
   "source": [
    "int2char"
   ]
  },
  {
   "cell_type": "markdown",
   "metadata": {},
   "source": [
    "## Pre-processing the data\n",
    "\n",
    "As you can see in our char-RNN image above, our LSTM expects an input that is **one-hot encoded** meaning that each character is converted into an integer (via our created dictionary) and *then* converted into a column vector where only it's corresponding integer index will have the value of 1 and the rest of the vector will be filled with 0's. Since we're one-hot encoding the data, let's make a function to do that!\n"
   ]
  },
  {
   "cell_type": "code",
   "execution_count": 8,
   "metadata": {},
   "outputs": [],
   "source": [
    "from IPython.core.debugger import set_trace\n",
    "\n",
    "def one_hot_encode(arr, n_labels):\n",
    "    \n",
    "    # Initialize the the encoded array\n",
    "    one_hot = np.zeros((np.multiply(*arr.shape), n_labels), dtype=np.float32)\n",
    "    \n",
    "    # Fill the appropriate elements with ones\n",
    "    one_hot[np.arange(one_hot.shape[0]), arr.flatten()] = 1.\n",
    "    \n",
    "    # Finally reshape it to get back to the original array\n",
    "    one_hot = one_hot.reshape((*arr.shape, n_labels))\n",
    "    \n",
    "    return one_hot"
   ]
  },
  {
   "cell_type": "code",
   "execution_count": 9,
   "metadata": {},
   "outputs": [
    {
     "name": "stdout",
     "output_type": "stream",
     "text": [
      "[[[0. 0. 0. 1. 0. 0. 0. 0.]\n",
      "  [0. 0. 0. 0. 0. 1. 0. 0.]\n",
      "  [0. 1. 0. 0. 0. 0. 0. 0.]]]\n"
     ]
    }
   ],
   "source": [
    "# check that the function works as expected\n",
    "test_seq = np.array([[3, 5, 1]])\n",
    "one_hot = one_hot_encode(test_seq, 8)\n",
    "\n",
    "print(one_hot)"
   ]
  },
  {
   "cell_type": "markdown",
   "metadata": {},
   "source": [
    "## Making training mini-batches\n",
    "\n",
    "\n",
    "To train on this data, we also want to create mini-batches for training. Remember that we want our batches to be multiple sequences of some desired number of sequence steps. Considering a simple example, our batches would look like this:\n",
    "\n",
    "<img src=\"assets/sequence_batching@1x.png\" width=500px>\n",
    "\n",
    "\n",
    "<br>\n",
    "\n",
    "In this example, we'll take the encoded characters (passed in as the `arr` parameter) and split them into multiple sequences, given by `batch_size`. Each of our sequences will be `seq_length` long.\n",
    "\n",
    "### Creating Batches\n",
    "\n",
    "**1. The first thing we need to do is discard some of the text so we only have completely full mini-batches. **\n",
    "\n",
    "Each batch contains $N \\times M$ characters, where $N$ is the batch size (the number of sequences in a batch) and $M$ is the seq_length or number of time steps in a sequence. Then, to get the total number of batches, $K$, that we can make from the array `arr`, you divide the length of `arr` by the number of characters per batch. Once you know the number of batches, you can get the total number of characters to keep from `arr`, $N * M * K$.\n",
    "\n",
    "**2. After that, we need to split `arr` into $N$ batches. ** \n",
    "\n",
    "You can do this using `arr.reshape(size)` where `size` is a tuple containing the dimensions sizes of the reshaped array. We know we want $N$ sequences in a batch, so let's make that the size of the first dimension. For the second dimension, you can use `-1` as a placeholder in the size, it'll fill up the array with the appropriate data for you. After this, you should have an array that is $N \\times (M * K)$.\n",
    "\n",
    "**3. Now that we have this array, we can iterate through it to get our mini-batches. **\n",
    "\n",
    "The idea is each batch is a $N \\times M$ window on the $N \\times (M * K)$ array. For each subsequent batch, the window moves over by `seq_length`. We also want to create both the input and target arrays. Remember that the targets are just the inputs shifted over by one character. The way I like to do this window is use `range` to take steps of size `n_steps` from $0$ to `arr.shape[1]`, the total number of tokens in each sequence. That way, the integers you get from `range` always point to the start of a batch, and each window is `seq_length` wide.\n",
    "\n",
    "> **TODO:** Write the code for creating batches in the function below. The exercises in this notebook _will not be easy_. I've provided a notebook with solutions alongside this notebook. If you get stuck, checkout the solutions. The most important thing is that you don't copy and paste the code into here, **type out the solution code yourself.**"
   ]
  },
  {
   "cell_type": "code",
   "execution_count": 10,
   "metadata": {},
   "outputs": [],
   "source": [
    "def get_batches(arr, batch_size, seq_length):\n",
    "    '''Create a generator that returns batches of size\n",
    "       batch_size x seq_length from arr.\n",
    "       \n",
    "       Arguments\n",
    "       ---------\n",
    "       arr: Array you want to make batches from\n",
    "       batch_size: Batch size, the number of sequences per batch\n",
    "       seq_length: Number of encoded chars in a sequence\n",
    "    '''\n",
    "    \n",
    "    ## TODO: Get the number of batches we can make\n",
    "    n_batches = len(arr) // (batch_size * seq_length)\n",
    "    \n",
    "    ## TODO: Keep only enough characters to make full batches\n",
    "    arr = arr[:n_batches * batch_size * seq_length]\n",
    "    \n",
    "    ## TODO: Reshape into batch_size rows\n",
    "    arr = arr.reshape((batch_size, -1))\n",
    "    \n",
    "    ## TODO: Iterate over the batches using a window of size seq_length\n",
    "    for n in range(0, arr.shape[1], seq_length):\n",
    "        # The features\n",
    "        x = arr[:, n:n+seq_length]\n",
    "        # The targets, shifted by one\n",
    "        \n",
    "        y = np.zeros_like(x)\n",
    "        if n+seq_length+1 < arr.shape[1]:\n",
    "            y = arr[:, n+1:n+seq_length+1]\n",
    "        else:\n",
    "            y = np.roll(x, shift=-1, axis=1)\n",
    "        \n",
    "        yield x, y"
   ]
  },
  {
   "cell_type": "markdown",
   "metadata": {},
   "source": [
    "**Note:**  \n",
    "The yield statement suspends function’s execution and sends a value back to caller, but retains enough state to enable function to resume where it is left off. When resumed, the function continues execution immediately after the last yield run. This allows its code to produce a series of values over time, rather them computing them at once and sending them back like a list."
   ]
  },
  {
   "cell_type": "markdown",
   "metadata": {},
   "source": [
    "### Test Your Implementation\n",
    "\n",
    "Now I'll make some data sets and we can check out what's going on as we batch data. Here, as an example, I'm going to use a batch size of 8 and 50 sequence steps."
   ]
  },
  {
   "cell_type": "code",
   "execution_count": 11,
   "metadata": {},
   "outputs": [],
   "source": [
    "batches = get_batches(encoded, 8, 50)"
   ]
  },
  {
   "cell_type": "code",
   "execution_count": 12,
   "metadata": {},
   "outputs": [
    {
     "name": "stdout",
     "output_type": "stream",
     "text": [
      "x\n",
      " [[18 59 30 61 73  7  9  4 55 74]\n",
      " [81 32 45  4 73 59 30 73  4 30]\n",
      " [ 7 45  2  4 32  9  4 30  4 56]\n",
      " [81  4 73 59  7  4  5 59  0  7]\n",
      " [ 4 81 30 80  4 59  7  9  4 73]\n",
      " [ 5 13 81 81  0 32 45  4 30 45]\n",
      " [ 4 40 45 45 30  4 59 30  2  4]\n",
      " [34 64 36 32 45 81  1 10 11  4]]\n",
      "\n",
      "y\n",
      " [[59 30 61 73  7  9  4 55 74 74]\n",
      " [32 45  4 73 59 30 73  4 30 73]\n",
      " [45  2  4 32  9  4 30  4 56 32]\n",
      " [ 4 73 59  7  4  5 59  0  7 56]\n",
      " [81 30 80  4 59  7  9  4 73  7]\n",
      " [13 81 81  0 32 45  4 30 45  2]\n",
      " [40 45 45 30  4 59 30  2  4 81]\n",
      " [64 36 32 45 81  1 10 11  4 57]]\n"
     ]
    }
   ],
   "source": [
    "x, y = next(batches)\n",
    "\n",
    "# printing out the first 10 items in a sequence\n",
    "print('x\\n', x[:10, :10])\n",
    "print('\\ny\\n', y[:10, :10])"
   ]
  },
  {
   "cell_type": "markdown",
   "metadata": {},
   "source": [
    "If you implemented `get_batches` correctly, the above output should look something like \n",
    "```\n",
    "x\n",
    " [[25  8 60 11 45 27 28 73  1  2]\n",
    " [17  7 20 73 45  8 60 45 73 60]\n",
    " [27 20 80 73  7 28 73 60 73 65]\n",
    " [17 73 45  8 27 73 66  8 46 27]\n",
    " [73 17 60 12 73  8 27 28 73 45]\n",
    " [66 64 17 17 46  7 20 73 60 20]\n",
    " [73 76 20 20 60 73  8 60 80 73]\n",
    " [47 35 43  7 20 17 24 50 37 73]]\n",
    "\n",
    "y\n",
    " [[ 8 60 11 45 27 28 73  1  2  2]\n",
    " [ 7 20 73 45  8 60 45 73 60 45]\n",
    " [20 80 73  7 28 73 60 73 65  7]\n",
    " [73 45  8 27 73 66  8 46 27 65]\n",
    " [17 60 12 73  8 27 28 73 45 27]\n",
    " [64 17 17 46  7 20 73 60 20 80]\n",
    " [76 20 20 60 73  8 60 80 73 17]\n",
    " [35 43  7 20 17 24 50 37 73 36]]\n",
    " ```\n",
    " although the exact numbers may be different. Check to make sure the data is shifted over one step for `y`."
   ]
  },
  {
   "cell_type": "markdown",
   "metadata": {},
   "source": [
    "---\n",
    "## Defining the network with PyTorch\n",
    "\n",
    "Below is where you'll define the network.\n",
    "\n",
    "<img src=\"assets/charRNN.png\" width=500px>\n",
    "\n",
    "Next, you'll use PyTorch to define the architecture of the network. We start by defining the layers and operations we want. Then, define a method for the forward pass. You've also been given a method for predicting characters."
   ]
  },
  {
   "cell_type": "markdown",
   "metadata": {},
   "source": [
    "### Model Structure\n",
    "\n",
    "In `__init__` the suggested structure is as follows:\n",
    "* Create and store the necessary dictionaries (this has been done for you)\n",
    "* Define an LSTM layer that takes as params: an input size (the number of characters), a hidden layer size `n_hidden`, a number of layers `n_layers`, a dropout probability `drop_prob`, and a batch_first boolean (True, since we are batching)\n",
    "* Define a dropout layer with `dropout_prob`\n",
    "* Define a fully-connected layer with params: input size `n_hidden` and output size (the number of characters)\n",
    "* Finally, initialize the weights (again, this has been given)\n",
    "\n",
    "Note that some parameters have been named and given in the `__init__` function, and we use them and store them by doing something like `self.drop_prob = drop_prob`."
   ]
  },
  {
   "cell_type": "markdown",
   "metadata": {},
   "source": [
    "---\n",
    "### LSTM Inputs/Outputs\n",
    "\n",
    "You can create a basic [LSTM layer](https://pytorch.org/docs/stable/nn.html#lstm) as follows\n",
    "\n",
    "```python\n",
    "self.lstm = nn.LSTM(input_size, n_hidden, n_layers, \n",
    "                            dropout=drop_prob, batch_first=True)\n",
    "```\n",
    "\n",
    "where `input_size` is the number of characters this cell expects to see as sequential input, and `n_hidden` is the number of units in the hidden layers in the cell. And we can add dropout by adding a dropout parameter with a specified probability; this will automatically add dropout to the inputs or outputs. Finally, in the `forward` function, we can stack up the LSTM cells into layers using `.view`. With this, you pass in a list of cells and it will send the output of one cell into the next cell.\n",
    "\n",
    "We also need to create an initial hidden state of all zeros. This is done like so\n",
    "\n",
    "```python\n",
    "self.init_hidden()\n",
    "```"
   ]
  },
  {
   "cell_type": "code",
   "execution_count": 13,
   "metadata": {},
   "outputs": [
    {
     "name": "stdout",
     "output_type": "stream",
     "text": [
      "Training on GPU!\n"
     ]
    }
   ],
   "source": [
    "# check if GPU is available\n",
    "train_on_gpu = torch.cuda.is_available()\n",
    "if(train_on_gpu):\n",
    "    print('Training on GPU!')\n",
    "else: \n",
    "    print('No GPU available, training on CPU; consider making n_epochs very small.')"
   ]
  },
  {
   "cell_type": "code",
   "execution_count": 14,
   "metadata": {},
   "outputs": [],
   "source": [
    "class CharRNN(nn.Module):\n",
    "    \n",
    "    def __init__(self, tokens, n_hidden=256, n_layers=2,\n",
    "                               drop_prob=0.5, lr=0.001):\n",
    "        super().__init__()\n",
    "        self.drop_prob = drop_prob\n",
    "        self.n_layers = n_layers\n",
    "        self.n_hidden = n_hidden\n",
    "        self.lr = lr\n",
    "        \n",
    "        # creating character dictionaries\n",
    "        self.chars = tokens\n",
    "        self.int2char = dict(enumerate(self.chars))\n",
    "        self.char2int = {ch: ii for ii, ch in self.int2char.items()}\n",
    "        \n",
    "        ## TODO: define the layers of the model\n",
    "        self.lstm = nn.LSTM(len(self.chars), self.n_hidden, self.n_layers, \n",
    "                            dropout=drop_prob, batch_first=True)\n",
    "        self.dropout = nn.Dropout(self.drop_prob)\n",
    "        self.fc = nn.Linear(self.n_hidden, len(self.chars))\n",
    "      \n",
    "    \n",
    "    def forward(self, x, hidden):\n",
    "        ''' Forward pass through the network. \n",
    "            These inputs are x, and the hidden/cell state `hidden`. '''\n",
    "                \n",
    "        ## TODO: Get the outputs and the new hidden state from the lstm\n",
    "        x, hidden = self.lstm(x, hidden)\n",
    "        x = self.dropout(x)\n",
    "        x = x.view(-1, self.n_hidden)\n",
    "        x = self.fc(x)\n",
    "        \n",
    "        # return the final output and the hidden state\n",
    "        return x, hidden\n",
    "    \n",
    "    \n",
    "    def init_hidden(self, batch_size):\n",
    "        ''' Initializes hidden state '''\n",
    "        # Create two new tensors with sizes n_layers x batch_size x n_hidden,\n",
    "        # initialized to zero, for hidden state and cell state of LSTM\n",
    "        weight = next(self.parameters()).data\n",
    "        \n",
    "        if (train_on_gpu):\n",
    "            hidden = (weight.new(self.n_layers, batch_size, self.n_hidden).zero_().cuda(),\n",
    "                  weight.new(self.n_layers, batch_size, self.n_hidden).zero_().cuda())\n",
    "        else:\n",
    "            hidden = (weight.new(self.n_layers, batch_size, self.n_hidden).zero_(),\n",
    "                      weight.new(self.n_layers, batch_size, self.n_hidden).zero_())\n",
    "        \n",
    "        return hidden\n",
    "        "
   ]
  },
  {
   "cell_type": "markdown",
   "metadata": {},
   "source": [
    "## Time to train\n",
    "\n",
    "The train function gives us the ability to set the number of epochs, the learning rate, and other parameters.\n",
    "\n",
    "Below we're using an Adam optimizer and cross entropy loss since we are looking at character class scores as output. We calculate the loss and perform backpropagation, as usual!\n",
    "\n",
    "A couple of details about training: \n",
    ">* Within the batch loop, we detach the hidden state from its history; this time setting it equal to a new *tuple* variable because an LSTM has a hidden state that is a tuple of the hidden and cell states.\n",
    "* We use [`clip_grad_norm_`](https://pytorch.org/docs/stable/_modules/torch/nn/utils/clip_grad.html) to help prevent exploding gradients."
   ]
  },
  {
   "cell_type": "code",
   "execution_count": 15,
   "metadata": {},
   "outputs": [],
   "source": [
    "def train(net, data, epochs=10, batch_size=10, seq_length=50, lr=0.001, clip=5, val_frac=0.1, print_every=10):\n",
    "    ''' Training a network \n",
    "    \n",
    "        Arguments\n",
    "        ---------\n",
    "        \n",
    "        net: CharRNN network\n",
    "        data: text data to train the network\n",
    "        epochs: Number of epochs to train\n",
    "        batch_size: Number of mini-sequences per mini-batch, aka batch size\n",
    "        seq_length: Number of character steps per mini-batch\n",
    "        lr: learning rate\n",
    "        clip: gradient clipping\n",
    "        val_frac: Fraction of data to hold out for validation\n",
    "        print_every: Number of steps for printing training and validation loss\n",
    "    \n",
    "    '''\n",
    "    \n",
    "    opt = torch.optim.Adam(net.parameters(), lr=lr)\n",
    "    criterion = nn.CrossEntropyLoss()\n",
    "    \n",
    "    # create training and validation data\n",
    "    val_idx = int(len(data)*(1-val_frac))\n",
    "    data, val_data = data[:val_idx], data[val_idx:]\n",
    "    \n",
    "    if(train_on_gpu):\n",
    "        net.cuda()\n",
    "    \n",
    "    counter = 0\n",
    "    n_chars = len(net.chars)\n",
    "    for e in range(epochs):\n",
    "        # initialize hidden state\n",
    "        h = net.init_hidden(batch_size)\n",
    "        \n",
    "        for x, y in get_batches(data, batch_size, seq_length):\n",
    "            counter += 1\n",
    "            \n",
    "            # One-hot encode our data and make them Torch tensors\n",
    "            x = one_hot_encode(x, n_chars)\n",
    "            inputs, targets = torch.from_numpy(x), torch.from_numpy(y)\n",
    "            \n",
    "            if(train_on_gpu):\n",
    "                inputs, targets = inputs.cuda(), targets.cuda()\n",
    "\n",
    "            # Creating new variables for the hidden state, otherwise\n",
    "            # we'd backprop through the entire training history\n",
    "            h = tuple([each.data for each in h])\n",
    "\n",
    "            # zero accumulated gradients\n",
    "            net.zero_grad()\n",
    "            \n",
    "            # get the output from the model\n",
    "            output, h = net(inputs, h)\n",
    "            \n",
    "            # calculate the loss and perform backprop\n",
    "            loss = criterion(output, targets.view(batch_size*seq_length))\n",
    "            loss.backward()\n",
    "            # `clip_grad_norm` helps prevent the exploding gradient problem in RNNs / LSTMs.\n",
    "            nn.utils.clip_grad_norm_(net.parameters(), clip)\n",
    "            opt.step()\n",
    "            \n",
    "            # loss stats\n",
    "            if counter % print_every == 0:\n",
    "                # Get validation loss\n",
    "                val_h = net.init_hidden(batch_size)\n",
    "                val_losses = []\n",
    "                for x, y in get_batches(val_data, batch_size, seq_length):\n",
    "                    # One-hot encode our data and make them Torch tensors\n",
    "                    x = one_hot_encode(x, n_chars)\n",
    "                    x, y = torch.from_numpy(x), torch.from_numpy(y)\n",
    "                    \n",
    "                    # Creating new variables for the hidden state, otherwise\n",
    "                    # we'd backprop through the entire training history\n",
    "                    val_h = tuple([each.data for each in val_h])\n",
    "                    \n",
    "                    inputs, targets = x, y\n",
    "                    if(train_on_gpu):\n",
    "                        inputs, targets = inputs.cuda(), targets.cuda()\n",
    "\n",
    "                    output, val_h = net(inputs, val_h)\n",
    "                    val_loss = criterion(output, targets.view(batch_size*seq_length))\n",
    "                \n",
    "                    val_losses.append(val_loss.item())\n",
    "                \n",
    "                print(\"Epoch: {}/{}...\".format(e+1, epochs),\n",
    "                      \"Step: {}...\".format(counter),\n",
    "                      \"Loss: {:.4f}...\".format(loss.item()),\n",
    "                      \"Val Loss: {:.4f}\".format(np.mean(val_losses)))"
   ]
  },
  {
   "cell_type": "markdown",
   "metadata": {},
   "source": [
    "## Instantiating the model\n",
    "\n",
    "Now we can actually train the network. First we'll create the network itself, with some given hyperparameters. Then, define the mini-batches sizes, and start training!"
   ]
  },
  {
   "cell_type": "code",
   "execution_count": 18,
   "metadata": {},
   "outputs": [
    {
     "name": "stdout",
     "output_type": "stream",
     "text": [
      "CharRNN(\n",
      "  (lstm): LSTM(83, 512, num_layers=2, batch_first=True, dropout=0.5)\n",
      "  (dropout): Dropout(p=0.5)\n",
      "  (fc): Linear(in_features=512, out_features=83, bias=True)\n",
      ")\n",
      "\n",
      "No. of Parameters in the model:3366483\n"
     ]
    }
   ],
   "source": [
    "## TODO: set you model hyperparameters\n",
    "# define and print the net\n",
    "n_hidden = 512\n",
    "n_layers = 2\n",
    "\n",
    "net = CharRNN(chars, n_hidden, n_layers)\n",
    "total_params = sum(p.numel() for p in net.parameters())\n",
    "print(net)\n",
    "print(f'\\nNo. of Parameters in the model:{total_params}')"
   ]
  },
  {
   "cell_type": "markdown",
   "metadata": {},
   "source": [
    "### Set your training hyperparameters!"
   ]
  },
  {
   "cell_type": "code",
   "execution_count": 20,
   "metadata": {
    "scrolled": true
   },
   "outputs": [
    {
     "name": "stdout",
     "output_type": "stream",
     "text": [
      "Epoch: 1/20... Step: 10... Loss: 3.2572... Val Loss: 3.2580\n",
      "Epoch: 1/20... Step: 20... Loss: 3.1468... Val Loss: 3.1696\n",
      "Epoch: 1/20... Step: 30... Loss: 3.1406... Val Loss: 3.1507\n",
      "Epoch: 1/20... Step: 40... Loss: 3.1094... Val Loss: 3.1402\n",
      "Epoch: 1/20... Step: 50... Loss: 3.1425... Val Loss: 3.1344\n",
      "Epoch: 1/20... Step: 60... Loss: 3.1091... Val Loss: 3.1271\n",
      "Epoch: 1/20... Step: 70... Loss: 3.0986... Val Loss: 3.1162\n",
      "Epoch: 1/20... Step: 80... Loss: 3.0954... Val Loss: 3.0941\n",
      "Epoch: 1/20... Step: 90... Loss: 3.0545... Val Loss: 3.0433\n",
      "Epoch: 1/20... Step: 100... Loss: 2.9642... Val Loss: 2.9521\n",
      "Epoch: 1/20... Step: 110... Loss: 2.9090... Val Loss: 2.9000\n",
      "Epoch: 1/20... Step: 120... Loss: 2.7520... Val Loss: 2.7628\n",
      "Epoch: 1/20... Step: 130... Loss: 2.6710... Val Loss: 2.6550\n",
      "Epoch: 2/20... Step: 140... Loss: 2.6079... Val Loss: 2.5940\n",
      "Epoch: 2/20... Step: 150... Loss: 2.5468... Val Loss: 2.5447\n",
      "Epoch: 2/20... Step: 160... Loss: 2.4997... Val Loss: 2.4969\n",
      "Epoch: 2/20... Step: 170... Loss: 2.4424... Val Loss: 2.4607\n",
      "Epoch: 2/20... Step: 180... Loss: 2.4080... Val Loss: 2.4377\n",
      "Epoch: 2/20... Step: 190... Loss: 2.3575... Val Loss: 2.4084\n",
      "Epoch: 2/20... Step: 200... Loss: 2.3516... Val Loss: 2.3756\n",
      "Epoch: 2/20... Step: 210... Loss: 2.3190... Val Loss: 2.3524\n",
      "Epoch: 2/20... Step: 220... Loss: 2.2832... Val Loss: 2.3201\n",
      "Epoch: 2/20... Step: 230... Loss: 2.2710... Val Loss: 2.3126\n",
      "Epoch: 2/20... Step: 240... Loss: 2.2519... Val Loss: 2.2793\n",
      "Epoch: 2/20... Step: 250... Loss: 2.1882... Val Loss: 2.2566\n",
      "Epoch: 2/20... Step: 260... Loss: 2.1577... Val Loss: 2.2357\n",
      "Epoch: 2/20... Step: 270... Loss: 2.1734... Val Loss: 2.2156\n",
      "Epoch: 3/20... Step: 280... Loss: 2.1714... Val Loss: 2.1953\n",
      "Epoch: 3/20... Step: 290... Loss: 2.1457... Val Loss: 2.1775\n",
      "Epoch: 3/20... Step: 300... Loss: 2.1205... Val Loss: 2.1593\n",
      "Epoch: 3/20... Step: 310... Loss: 2.0922... Val Loss: 2.1452\n",
      "Epoch: 3/20... Step: 320... Loss: 2.0547... Val Loss: 2.1258\n",
      "Epoch: 3/20... Step: 330... Loss: 2.0322... Val Loss: 2.1135\n",
      "Epoch: 3/20... Step: 340... Loss: 2.0548... Val Loss: 2.0967\n",
      "Epoch: 3/20... Step: 350... Loss: 2.0270... Val Loss: 2.0848\n",
      "Epoch: 3/20... Step: 360... Loss: 1.9737... Val Loss: 2.0649\n",
      "Epoch: 3/20... Step: 370... Loss: 2.0027... Val Loss: 2.0501\n",
      "Epoch: 3/20... Step: 380... Loss: 1.9710... Val Loss: 2.0347\n",
      "Epoch: 3/20... Step: 390... Loss: 1.9421... Val Loss: 2.0235\n",
      "Epoch: 3/20... Step: 400... Loss: 1.9186... Val Loss: 2.0115\n",
      "Epoch: 3/20... Step: 410... Loss: 1.9369... Val Loss: 1.9937\n",
      "Epoch: 4/20... Step: 420... Loss: 1.9182... Val Loss: 1.9852\n",
      "Epoch: 4/20... Step: 430... Loss: 1.9121... Val Loss: 1.9714\n",
      "Epoch: 4/20... Step: 440... Loss: 1.8912... Val Loss: 1.9571\n",
      "Epoch: 4/20... Step: 450... Loss: 1.8382... Val Loss: 1.9471\n",
      "Epoch: 4/20... Step: 460... Loss: 1.8242... Val Loss: 1.9395\n",
      "Epoch: 4/20... Step: 470... Loss: 1.8547... Val Loss: 1.9243\n",
      "Epoch: 4/20... Step: 480... Loss: 1.8327... Val Loss: 1.9176\n",
      "Epoch: 4/20... Step: 490... Loss: 1.8376... Val Loss: 1.9114\n",
      "Epoch: 4/20... Step: 500... Loss: 1.8379... Val Loss: 1.8992\n",
      "Epoch: 4/20... Step: 510... Loss: 1.8212... Val Loss: 1.8923\n",
      "Epoch: 4/20... Step: 520... Loss: 1.8201... Val Loss: 1.8800\n",
      "Epoch: 4/20... Step: 530... Loss: 1.7921... Val Loss: 1.8733\n",
      "Epoch: 4/20... Step: 540... Loss: 1.7460... Val Loss: 1.8596\n",
      "Epoch: 4/20... Step: 550... Loss: 1.7950... Val Loss: 1.8525\n",
      "Epoch: 5/20... Step: 560... Loss: 1.7513... Val Loss: 1.8441\n",
      "Epoch: 5/20... Step: 570... Loss: 1.7475... Val Loss: 1.8378\n",
      "Epoch: 5/20... Step: 580... Loss: 1.7197... Val Loss: 1.8266\n",
      "Epoch: 5/20... Step: 590... Loss: 1.7267... Val Loss: 1.8186\n",
      "Epoch: 5/20... Step: 600... Loss: 1.7159... Val Loss: 1.8161\n",
      "Epoch: 5/20... Step: 610... Loss: 1.7052... Val Loss: 1.8058\n",
      "Epoch: 5/20... Step: 620... Loss: 1.7052... Val Loss: 1.7973\n",
      "Epoch: 5/20... Step: 630... Loss: 1.7137... Val Loss: 1.7911\n",
      "Epoch: 5/20... Step: 640... Loss: 1.6863... Val Loss: 1.7831\n",
      "Epoch: 5/20... Step: 650... Loss: 1.6783... Val Loss: 1.7808\n",
      "Epoch: 5/20... Step: 660... Loss: 1.6471... Val Loss: 1.7718\n",
      "Epoch: 5/20... Step: 670... Loss: 1.6791... Val Loss: 1.7686\n",
      "Epoch: 5/20... Step: 680... Loss: 1.6777... Val Loss: 1.7587\n",
      "Epoch: 5/20... Step: 690... Loss: 1.6467... Val Loss: 1.7542\n",
      "Epoch: 6/20... Step: 700... Loss: 1.6520... Val Loss: 1.7514\n",
      "Epoch: 6/20... Step: 710... Loss: 1.6426... Val Loss: 1.7433\n",
      "Epoch: 6/20... Step: 720... Loss: 1.6230... Val Loss: 1.7315\n",
      "Epoch: 6/20... Step: 730... Loss: 1.6423... Val Loss: 1.7329\n",
      "Epoch: 6/20... Step: 740... Loss: 1.6091... Val Loss: 1.7308\n",
      "Epoch: 6/20... Step: 750... Loss: 1.5929... Val Loss: 1.7235\n",
      "Epoch: 6/20... Step: 760... Loss: 1.6290... Val Loss: 1.7178\n",
      "Epoch: 6/20... Step: 770... Loss: 1.6071... Val Loss: 1.7122\n",
      "Epoch: 6/20... Step: 780... Loss: 1.5922... Val Loss: 1.7067\n",
      "Epoch: 6/20... Step: 790... Loss: 1.5804... Val Loss: 1.7059\n",
      "Epoch: 6/20... Step: 800... Loss: 1.6029... Val Loss: 1.6987\n",
      "Epoch: 6/20... Step: 810... Loss: 1.5817... Val Loss: 1.6977\n",
      "Epoch: 6/20... Step: 820... Loss: 1.5621... Val Loss: 1.6906\n",
      "Epoch: 6/20... Step: 830... Loss: 1.5883... Val Loss: 1.6864\n",
      "Epoch: 7/20... Step: 840... Loss: 1.5440... Val Loss: 1.6762\n",
      "Epoch: 7/20... Step: 850... Loss: 1.5640... Val Loss: 1.6775\n",
      "Epoch: 7/20... Step: 860... Loss: 1.5491... Val Loss: 1.6721\n",
      "Epoch: 7/20... Step: 870... Loss: 1.5576... Val Loss: 1.6692\n",
      "Epoch: 7/20... Step: 880... Loss: 1.5544... Val Loss: 1.6690\n",
      "Epoch: 7/20... Step: 890... Loss: 1.5598... Val Loss: 1.6642\n",
      "Epoch: 7/20... Step: 900... Loss: 1.5370... Val Loss: 1.6582\n",
      "Epoch: 7/20... Step: 910... Loss: 1.5099... Val Loss: 1.6596\n",
      "Epoch: 7/20... Step: 920... Loss: 1.5345... Val Loss: 1.6522\n",
      "Epoch: 7/20... Step: 930... Loss: 1.5188... Val Loss: 1.6490\n",
      "Epoch: 7/20... Step: 940... Loss: 1.5236... Val Loss: 1.6470\n",
      "Epoch: 7/20... Step: 950... Loss: 1.5250... Val Loss: 1.6370\n",
      "Epoch: 7/20... Step: 960... Loss: 1.5200... Val Loss: 1.6380\n",
      "Epoch: 7/20... Step: 970... Loss: 1.5416... Val Loss: 1.6323\n",
      "Epoch: 8/20... Step: 980... Loss: 1.5113... Val Loss: 1.6300\n",
      "Epoch: 8/20... Step: 990... Loss: 1.5011... Val Loss: 1.6276\n",
      "Epoch: 8/20... Step: 1000... Loss: 1.4981... Val Loss: 1.6258\n",
      "Epoch: 8/20... Step: 1010... Loss: 1.5453... Val Loss: 1.6206\n",
      "Epoch: 8/20... Step: 1020... Loss: 1.5088... Val Loss: 1.6185\n",
      "Epoch: 8/20... Step: 1030... Loss: 1.4930... Val Loss: 1.6123\n",
      "Epoch: 8/20... Step: 1040... Loss: 1.5007... Val Loss: 1.6164\n",
      "Epoch: 8/20... Step: 1050... Loss: 1.4816... Val Loss: 1.6113\n",
      "Epoch: 8/20... Step: 1060... Loss: 1.4886... Val Loss: 1.6065\n",
      "Epoch: 8/20... Step: 1070... Loss: 1.4836... Val Loss: 1.6050\n",
      "Epoch: 8/20... Step: 1080... Loss: 1.4860... Val Loss: 1.6044\n",
      "Epoch: 8/20... Step: 1090... Loss: 1.4567... Val Loss: 1.6019\n",
      "Epoch: 8/20... Step: 1100... Loss: 1.4605... Val Loss: 1.5933\n",
      "Epoch: 8/20... Step: 1110... Loss: 1.4610... Val Loss: 1.5903\n",
      "Epoch: 9/20... Step: 1120... Loss: 1.4803... Val Loss: 1.5907\n",
      "Epoch: 9/20... Step: 1130... Loss: 1.4671... Val Loss: 1.5867\n",
      "Epoch: 9/20... Step: 1140... Loss: 1.4711... Val Loss: 1.5862\n",
      "Epoch: 9/20... Step: 1150... Loss: 1.4843... Val Loss: 1.5829\n",
      "Epoch: 9/20... Step: 1160... Loss: 1.4350... Val Loss: 1.5802\n",
      "Epoch: 9/20... Step: 1170... Loss: 1.4510... Val Loss: 1.5766\n",
      "Epoch: 9/20... Step: 1180... Loss: 1.4462... Val Loss: 1.5763\n",
      "Epoch: 9/20... Step: 1190... Loss: 1.4799... Val Loss: 1.5730\n",
      "Epoch: 9/20... Step: 1200... Loss: 1.4206... Val Loss: 1.5705\n",
      "Epoch: 9/20... Step: 1210... Loss: 1.4406... Val Loss: 1.5687\n",
      "Epoch: 9/20... Step: 1220... Loss: 1.4347... Val Loss: 1.5669\n",
      "Epoch: 9/20... Step: 1230... Loss: 1.4130... Val Loss: 1.5653\n",
      "Epoch: 9/20... Step: 1240... Loss: 1.4288... Val Loss: 1.5640\n",
      "Epoch: 9/20... Step: 1250... Loss: 1.4385... Val Loss: 1.5574\n",
      "Epoch: 10/20... Step: 1260... Loss: 1.4412... Val Loss: 1.5598\n",
      "Epoch: 10/20... Step: 1270... Loss: 1.4331... Val Loss: 1.5574\n",
      "Epoch: 10/20... Step: 1280... Loss: 1.4421... Val Loss: 1.5504\n",
      "Epoch: 10/20... Step: 1290... Loss: 1.4320... Val Loss: 1.5520\n",
      "Epoch: 10/20... Step: 1300... Loss: 1.4190... Val Loss: 1.5483\n",
      "Epoch: 10/20... Step: 1310... Loss: 1.4340... Val Loss: 1.5447\n",
      "Epoch: 10/20... Step: 1320... Loss: 1.3873... Val Loss: 1.5498\n",
      "Epoch: 10/20... Step: 1330... Loss: 1.4074... Val Loss: 1.5491\n",
      "Epoch: 10/20... Step: 1340... Loss: 1.3839... Val Loss: 1.5420\n"
     ]
    },
    {
     "name": "stdout",
     "output_type": "stream",
     "text": [
      "Epoch: 10/20... Step: 1350... Loss: 1.3847... Val Loss: 1.5410\n",
      "Epoch: 10/20... Step: 1360... Loss: 1.3896... Val Loss: 1.5390\n",
      "Epoch: 10/20... Step: 1370... Loss: 1.3741... Val Loss: 1.5343\n",
      "Epoch: 10/20... Step: 1380... Loss: 1.4227... Val Loss: 1.5355\n",
      "Epoch: 10/20... Step: 1390... Loss: 1.4289... Val Loss: 1.5336\n",
      "Epoch: 11/20... Step: 1400... Loss: 1.4229... Val Loss: 1.5313\n",
      "Epoch: 11/20... Step: 1410... Loss: 1.4370... Val Loss: 1.5306\n",
      "Epoch: 11/20... Step: 1420... Loss: 1.4231... Val Loss: 1.5233\n",
      "Epoch: 11/20... Step: 1430... Loss: 1.3947... Val Loss: 1.5265\n",
      "Epoch: 11/20... Step: 1440... Loss: 1.4199... Val Loss: 1.5228\n",
      "Epoch: 11/20... Step: 1450... Loss: 1.3486... Val Loss: 1.5220\n",
      "Epoch: 11/20... Step: 1460... Loss: 1.3808... Val Loss: 1.5228\n",
      "Epoch: 11/20... Step: 1470... Loss: 1.3628... Val Loss: 1.5252\n",
      "Epoch: 11/20... Step: 1480... Loss: 1.3800... Val Loss: 1.5158\n",
      "Epoch: 11/20... Step: 1490... Loss: 1.3704... Val Loss: 1.5195\n",
      "Epoch: 11/20... Step: 1500... Loss: 1.3606... Val Loss: 1.5214\n",
      "Epoch: 11/20... Step: 1510... Loss: 1.3465... Val Loss: 1.5156\n",
      "Epoch: 11/20... Step: 1520... Loss: 1.3844... Val Loss: 1.5087\n",
      "Epoch: 12/20... Step: 1530... Loss: 1.4258... Val Loss: 1.5089\n",
      "Epoch: 12/20... Step: 1540... Loss: 1.3896... Val Loss: 1.5029\n",
      "Epoch: 12/20... Step: 1550... Loss: 1.3935... Val Loss: 1.5034\n",
      "Epoch: 12/20... Step: 1560... Loss: 1.4012... Val Loss: 1.5021\n",
      "Epoch: 12/20... Step: 1570... Loss: 1.3518... Val Loss: 1.5070\n",
      "Epoch: 12/20... Step: 1580... Loss: 1.3291... Val Loss: 1.5016\n",
      "Epoch: 12/20... Step: 1590... Loss: 1.3282... Val Loss: 1.5019\n",
      "Epoch: 12/20... Step: 1600... Loss: 1.3449... Val Loss: 1.4989\n",
      "Epoch: 12/20... Step: 1610... Loss: 1.3393... Val Loss: 1.5000\n",
      "Epoch: 12/20... Step: 1620... Loss: 1.3462... Val Loss: 1.5012\n",
      "Epoch: 12/20... Step: 1630... Loss: 1.3641... Val Loss: 1.4993\n",
      "Epoch: 12/20... Step: 1640... Loss: 1.3498... Val Loss: 1.4976\n",
      "Epoch: 12/20... Step: 1650... Loss: 1.3207... Val Loss: 1.4899\n",
      "Epoch: 12/20... Step: 1660... Loss: 1.3709... Val Loss: 1.4878\n",
      "Epoch: 13/20... Step: 1670... Loss: 1.3410... Val Loss: 1.4951\n",
      "Epoch: 13/20... Step: 1680... Loss: 1.3570... Val Loss: 1.4871\n",
      "Epoch: 13/20... Step: 1690... Loss: 1.3404... Val Loss: 1.4878\n",
      "Epoch: 13/20... Step: 1700... Loss: 1.3395... Val Loss: 1.4893\n",
      "Epoch: 13/20... Step: 1710... Loss: 1.3157... Val Loss: 1.4877\n",
      "Epoch: 13/20... Step: 1720... Loss: 1.3184... Val Loss: 1.4894\n",
      "Epoch: 13/20... Step: 1730... Loss: 1.3659... Val Loss: 1.4814\n",
      "Epoch: 13/20... Step: 1740... Loss: 1.3301... Val Loss: 1.4876\n",
      "Epoch: 13/20... Step: 1750... Loss: 1.3011... Val Loss: 1.4843\n",
      "Epoch: 13/20... Step: 1760... Loss: 1.3263... Val Loss: 1.4856\n",
      "Epoch: 13/20... Step: 1770... Loss: 1.3484... Val Loss: 1.4773\n",
      "Epoch: 13/20... Step: 1780... Loss: 1.3184... Val Loss: 1.4764\n",
      "Epoch: 13/20... Step: 1790... Loss: 1.3161... Val Loss: 1.4797\n",
      "Epoch: 13/20... Step: 1800... Loss: 1.3358... Val Loss: 1.4741\n",
      "Epoch: 14/20... Step: 1810... Loss: 1.3323... Val Loss: 1.4759\n",
      "Epoch: 14/20... Step: 1820... Loss: 1.3277... Val Loss: 1.4672\n",
      "Epoch: 14/20... Step: 1830... Loss: 1.3466... Val Loss: 1.4679\n",
      "Epoch: 14/20... Step: 1840... Loss: 1.2938... Val Loss: 1.4673\n",
      "Epoch: 14/20... Step: 1850... Loss: 1.2699... Val Loss: 1.4720\n",
      "Epoch: 14/20... Step: 1860... Loss: 1.3297... Val Loss: 1.4677\n",
      "Epoch: 14/20... Step: 1870... Loss: 1.3382... Val Loss: 1.4652\n",
      "Epoch: 14/20... Step: 1880... Loss: 1.3217... Val Loss: 1.4680\n",
      "Epoch: 14/20... Step: 1890... Loss: 1.3415... Val Loss: 1.4687\n",
      "Epoch: 14/20... Step: 1900... Loss: 1.3211... Val Loss: 1.4697\n",
      "Epoch: 14/20... Step: 1910... Loss: 1.3162... Val Loss: 1.4669\n",
      "Epoch: 14/20... Step: 1920... Loss: 1.3122... Val Loss: 1.4632\n",
      "Epoch: 14/20... Step: 1930... Loss: 1.2766... Val Loss: 1.4622\n",
      "Epoch: 14/20... Step: 1940... Loss: 1.3349... Val Loss: 1.4599\n",
      "Epoch: 15/20... Step: 1950... Loss: 1.3101... Val Loss: 1.4706\n",
      "Epoch: 15/20... Step: 1960... Loss: 1.3066... Val Loss: 1.4571\n",
      "Epoch: 15/20... Step: 1970... Loss: 1.3037... Val Loss: 1.4568\n",
      "Epoch: 15/20... Step: 1980... Loss: 1.2952... Val Loss: 1.4572\n",
      "Epoch: 15/20... Step: 1990... Loss: 1.2919... Val Loss: 1.4592\n",
      "Epoch: 15/20... Step: 2000... Loss: 1.2715... Val Loss: 1.4604\n",
      "Epoch: 15/20... Step: 2010... Loss: 1.2934... Val Loss: 1.4543\n",
      "Epoch: 15/20... Step: 2020... Loss: 1.3064... Val Loss: 1.4590\n",
      "Epoch: 15/20... Step: 2030... Loss: 1.2844... Val Loss: 1.4556\n",
      "Epoch: 15/20... Step: 2040... Loss: 1.2985... Val Loss: 1.4547\n",
      "Epoch: 15/20... Step: 2050... Loss: 1.2853... Val Loss: 1.4517\n",
      "Epoch: 15/20... Step: 2060... Loss: 1.2940... Val Loss: 1.4517\n",
      "Epoch: 15/20... Step: 2070... Loss: 1.3033... Val Loss: 1.4482\n",
      "Epoch: 15/20... Step: 2080... Loss: 1.2956... Val Loss: 1.4482\n",
      "Epoch: 16/20... Step: 2090... Loss: 1.2983... Val Loss: 1.4583\n",
      "Epoch: 16/20... Step: 2100... Loss: 1.2827... Val Loss: 1.4488\n",
      "Epoch: 16/20... Step: 2110... Loss: 1.2768... Val Loss: 1.4458\n",
      "Epoch: 16/20... Step: 2120... Loss: 1.2892... Val Loss: 1.4486\n",
      "Epoch: 16/20... Step: 2130... Loss: 1.2611... Val Loss: 1.4485\n",
      "Epoch: 16/20... Step: 2140... Loss: 1.2716... Val Loss: 1.4467\n",
      "Epoch: 16/20... Step: 2150... Loss: 1.3162... Val Loss: 1.4412\n",
      "Epoch: 16/20... Step: 2160... Loss: 1.2748... Val Loss: 1.4463\n",
      "Epoch: 16/20... Step: 2170... Loss: 1.2768... Val Loss: 1.4487\n",
      "Epoch: 16/20... Step: 2180... Loss: 1.2770... Val Loss: 1.4441\n",
      "Epoch: 16/20... Step: 2190... Loss: 1.2942... Val Loss: 1.4418\n",
      "Epoch: 16/20... Step: 2200... Loss: 1.2704... Val Loss: 1.4431\n",
      "Epoch: 16/20... Step: 2210... Loss: 1.2332... Val Loss: 1.4418\n",
      "Epoch: 16/20... Step: 2220... Loss: 1.2866... Val Loss: 1.4409\n",
      "Epoch: 17/20... Step: 2230... Loss: 1.2568... Val Loss: 1.4388\n",
      "Epoch: 17/20... Step: 2240... Loss: 1.2732... Val Loss: 1.4356\n",
      "Epoch: 17/20... Step: 2250... Loss: 1.2507... Val Loss: 1.4412\n",
      "Epoch: 17/20... Step: 2260... Loss: 1.2678... Val Loss: 1.4356\n",
      "Epoch: 17/20... Step: 2270... Loss: 1.2732... Val Loss: 1.4350\n",
      "Epoch: 17/20... Step: 2280... Loss: 1.2839... Val Loss: 1.4366\n",
      "Epoch: 17/20... Step: 2290... Loss: 1.2730... Val Loss: 1.4306\n",
      "Epoch: 17/20... Step: 2300... Loss: 1.2377... Val Loss: 1.4384\n",
      "Epoch: 17/20... Step: 2310... Loss: 1.2721... Val Loss: 1.4383\n",
      "Epoch: 17/20... Step: 2320... Loss: 1.2559... Val Loss: 1.4315\n",
      "Epoch: 17/20... Step: 2330... Loss: 1.2601... Val Loss: 1.4322\n",
      "Epoch: 17/20... Step: 2340... Loss: 1.2634... Val Loss: 1.4386\n",
      "Epoch: 17/20... Step: 2350... Loss: 1.2740... Val Loss: 1.4288\n",
      "Epoch: 17/20... Step: 2360... Loss: 1.2908... Val Loss: 1.4316\n",
      "Epoch: 18/20... Step: 2370... Loss: 1.2460... Val Loss: 1.4303\n",
      "Epoch: 18/20... Step: 2380... Loss: 1.2584... Val Loss: 1.4307\n",
      "Epoch: 18/20... Step: 2390... Loss: 1.2504... Val Loss: 1.4304\n",
      "Epoch: 18/20... Step: 2400... Loss: 1.2753... Val Loss: 1.4311\n",
      "Epoch: 18/20... Step: 2410... Loss: 1.2818... Val Loss: 1.4296\n",
      "Epoch: 18/20... Step: 2420... Loss: 1.2482... Val Loss: 1.4267\n",
      "Epoch: 18/20... Step: 2430... Loss: 1.2643... Val Loss: 1.4249\n",
      "Epoch: 18/20... Step: 2440... Loss: 1.2504... Val Loss: 1.4267\n",
      "Epoch: 18/20... Step: 2450... Loss: 1.2407... Val Loss: 1.4242\n",
      "Epoch: 18/20... Step: 2460... Loss: 1.2577... Val Loss: 1.4225\n",
      "Epoch: 18/20... Step: 2470... Loss: 1.2562... Val Loss: 1.4250\n",
      "Epoch: 18/20... Step: 2480... Loss: 1.2465... Val Loss: 1.4229\n",
      "Epoch: 18/20... Step: 2490... Loss: 1.2330... Val Loss: 1.4215\n",
      "Epoch: 18/20... Step: 2500... Loss: 1.2497... Val Loss: 1.4240\n",
      "Epoch: 19/20... Step: 2510... Loss: 1.2516... Val Loss: 1.4223\n",
      "Epoch: 19/20... Step: 2520... Loss: 1.2555... Val Loss: 1.4193\n",
      "Epoch: 19/20... Step: 2530... Loss: 1.2573... Val Loss: 1.4211\n",
      "Epoch: 19/20... Step: 2540... Loss: 1.2749... Val Loss: 1.4239\n",
      "Epoch: 19/20... Step: 2550... Loss: 1.2397... Val Loss: 1.4225\n",
      "Epoch: 19/20... Step: 2560... Loss: 1.2508... Val Loss: 1.4172\n",
      "Epoch: 19/20... Step: 2570... Loss: 1.2402... Val Loss: 1.4168\n",
      "Epoch: 19/20... Step: 2580... Loss: 1.2663... Val Loss: 1.4198\n",
      "Epoch: 19/20... Step: 2590... Loss: 1.2329... Val Loss: 1.4216\n",
      "Epoch: 19/20... Step: 2600... Loss: 1.2329... Val Loss: 1.4157\n",
      "Epoch: 19/20... Step: 2610... Loss: 1.2386... Val Loss: 1.4194\n",
      "Epoch: 19/20... Step: 2620... Loss: 1.2216... Val Loss: 1.4171\n",
      "Epoch: 19/20... Step: 2630... Loss: 1.2382... Val Loss: 1.4186\n",
      "Epoch: 19/20... Step: 2640... Loss: 1.2519... Val Loss: 1.4197\n",
      "Epoch: 20/20... Step: 2650... Loss: 1.2431... Val Loss: 1.4164\n"
     ]
    },
    {
     "name": "stdout",
     "output_type": "stream",
     "text": [
      "Epoch: 20/20... Step: 2660... Loss: 1.2549... Val Loss: 1.4193\n",
      "Epoch: 20/20... Step: 2670... Loss: 1.2572... Val Loss: 1.4173\n",
      "Epoch: 20/20... Step: 2680... Loss: 1.2570... Val Loss: 1.4137\n",
      "Epoch: 20/20... Step: 2690... Loss: 1.2360... Val Loss: 1.4140\n",
      "Epoch: 20/20... Step: 2700... Loss: 1.2434... Val Loss: 1.4133\n",
      "Epoch: 20/20... Step: 2710... Loss: 1.2214... Val Loss: 1.4127\n",
      "Epoch: 20/20... Step: 2720... Loss: 1.2101... Val Loss: 1.4151\n",
      "Epoch: 20/20... Step: 2730... Loss: 1.2111... Val Loss: 1.4105\n",
      "Epoch: 20/20... Step: 2740... Loss: 1.2119... Val Loss: 1.4114\n",
      "Epoch: 20/20... Step: 2750... Loss: 1.2162... Val Loss: 1.4184\n",
      "Epoch: 20/20... Step: 2760... Loss: 1.2120... Val Loss: 1.4098\n",
      "Epoch: 20/20... Step: 2770... Loss: 1.2479... Val Loss: 1.4093\n",
      "Epoch: 20/20... Step: 2780... Loss: 1.2798... Val Loss: 1.4134\n"
     ]
    }
   ],
   "source": [
    "batch_size = 128\n",
    "seq_length = 100\n",
    "n_epochs = 20 # start small if you are just testing initial behavior\n",
    "\n",
    "# train the model\n",
    "train(net, encoded, epochs=n_epochs, batch_size=batch_size, seq_length=seq_length, lr=0.001, print_every=10)"
   ]
  },
  {
   "cell_type": "markdown",
   "metadata": {},
   "source": [
    "## Getting the best model\n",
    "\n",
    "To set your hyperparameters to get the best performance, you'll want to watch the training and validation losses. If your training loss is much lower than the validation loss, you're overfitting. Increase regularization (more dropout) or use a smaller network. If the training and validation losses are close, you're underfitting so you can increase the size of the network."
   ]
  },
  {
   "cell_type": "markdown",
   "metadata": {},
   "source": [
    "## Hyperparameters\n",
    "\n",
    "Here are the hyperparameters for the network.\n",
    "\n",
    "In defining the model:\n",
    "* `n_hidden` - The number of units in the hidden layers.\n",
    "* `n_layers` - Number of hidden LSTM layers to use.\n",
    "\n",
    "We assume that dropout probability and learning rate will be kept at the default, in this example.\n",
    "\n",
    "And in training:\n",
    "* `batch_size` - Number of sequences running through the network in one pass.\n",
    "* `seq_length` - Number of characters in the sequence the network is trained on. Larger is better typically, the network will learn more long range dependencies. But it takes longer to train. 100 is typically a good number here.\n",
    "* `lr` - Learning rate for training\n",
    "\n",
    "Here's some good advice from Andrej Karpathy on training the network. I'm going to copy it in here for your benefit, but also link to [where it originally came from](https://github.com/karpathy/char-rnn#tips-and-tricks).\n",
    "\n",
    "> ## Tips and Tricks\n",
    "\n",
    ">### Monitoring Validation Loss vs. Training Loss\n",
    ">If you're somewhat new to Machine Learning or Neural Networks it can take a bit of expertise to get good models. The most important quantity to keep track of is the difference between your training loss (printed during training) and the validation loss (printed once in a while when the RNN is run on the validation data (by default every 1000 iterations)). In particular:\n",
    "\n",
    "> - If your training loss is much lower than validation loss then this means the network might be **overfitting**. Solutions to this are to decrease your network size, or to increase dropout. For example you could try dropout of 0.5 and so on.\n",
    "> - If your training/validation loss are about equal then your model is **underfitting**. Increase the size of your model (either number of layers or the raw number of neurons per layer)\n",
    "\n",
    "> ### Approximate number of parameters\n",
    "\n",
    "> The two most important parameters that control the model are `n_hidden` and `n_layers`. I would advise that you always use `n_layers` of either 2/3. The `n_hidden` can be adjusted based on how much data you have. The two important quantities to keep track of here are:\n",
    "\n",
    "> - The number of parameters in your model. This is printed when you start training.\n",
    "> - The size of your dataset. 1MB file is approximately 1 million characters.\n",
    "\n",
    ">These two should be about the same order of magnitude. It's a little tricky to tell. Here are some examples:\n",
    "\n",
    "> - I have a 100MB dataset and I'm using the default parameter settings (which currently print 150K parameters). My data size is significantly larger (100 mil >> 0.15 mil), so I expect to heavily underfit. I am thinking I can comfortably afford to make `n_hidden` larger.\n",
    "> - I have a 10MB dataset and running a 10 million parameter model. I'm slightly nervous and I'm carefully monitoring my validation loss. If it's larger than my training loss then I may want to try to increase dropout a bit and see if that helps the validation loss.\n",
    "\n",
    "> ### Best models strategy\n",
    "\n",
    ">The winning strategy to obtaining very good models (if you have the compute time) is to always err on making the network larger (as large as you're willing to wait for it to compute) and then try different dropout values (between 0,1). Whatever model has the best validation performance (the loss, written in the checkpoint filename, low is good) is the one you should use in the end.\n",
    "\n",
    ">It is very common in deep learning to run many different models with many different hyperparameter settings, and in the end take whatever checkpoint gave the best validation performance.\n",
    "\n",
    ">By the way, the size of your training and validation splits are also parameters. Make sure you have a decent amount of data in your validation set or otherwise the validation performance will be noisy and not very informative."
   ]
  },
  {
   "cell_type": "markdown",
   "metadata": {},
   "source": [
    "## Checkpoint\n",
    "\n",
    "After training, we'll save the model so we can load it again later if we need too. Here I'm saving the parameters needed to create the same architecture, the hidden layer hyperparameters and the text characters."
   ]
  },
  {
   "cell_type": "code",
   "execution_count": 21,
   "metadata": {},
   "outputs": [],
   "source": [
    "# change the name, for saving multiple files\n",
    "model_name = 'rnn_20_epoch.net'\n",
    "\n",
    "checkpoint = {'n_hidden': net.n_hidden,\n",
    "              'n_layers': net.n_layers,\n",
    "              'state_dict': net.state_dict(),\n",
    "              'tokens': net.chars}\n",
    "\n",
    "with open(model_name, 'wb') as f:\n",
    "    torch.save(checkpoint, f)"
   ]
  },
  {
   "cell_type": "markdown",
   "metadata": {},
   "source": [
    "---\n",
    "## Making Predictions\n",
    "\n",
    "Now that the model is trained, we'll want to sample from it and make predictions about next characters! To sample, we pass in a character and have the network predict the next character. Then we take that character, pass it back in, and get another predicted character. Just keep doing this and you'll generate a bunch of text!\n",
    "\n",
    "### A note on the `predict`  function\n",
    "\n",
    "The output of our RNN is from a fully-connected layer and it outputs a **distribution of next-character scores**.\n",
    "\n",
    "> To actually get the next character, we apply a softmax function, which gives us a *probability* distribution that we can then sample to predict the next character.\n",
    "\n",
    "### Top K sampling\n",
    "\n",
    "Our predictions come from a categorical probability distribution over all the possible characters. We can make the sample text and make it more reasonable to handle (with less variables) by only considering some $K$ most probable characters. This will prevent the network from giving us completely absurd characters while allowing it to introduce some noise and randomness into the sampled text. Read more about [topk, here](https://pytorch.org/docs/stable/torch.html#torch.topk).\n"
   ]
  },
  {
   "cell_type": "code",
   "execution_count": 22,
   "metadata": {},
   "outputs": [],
   "source": [
    "def predict(net, char, h=None, top_k=None):\n",
    "        ''' Given a character, predict the next character.\n",
    "            Returns the predicted character and the hidden state.\n",
    "        '''\n",
    "        \n",
    "        # tensor inputs\n",
    "        x = np.array([[net.char2int[char]]])\n",
    "        x = one_hot_encode(x, len(net.chars))\n",
    "        inputs = torch.from_numpy(x)\n",
    "        \n",
    "        if(train_on_gpu):\n",
    "            inputs = inputs.cuda()\n",
    "        \n",
    "        # detach hidden state from history\n",
    "        h = tuple([each.data for each in h])\n",
    "        # get the output of the model\n",
    "        out, h = net(inputs, h)\n",
    "\n",
    "        # get the character probabilities\n",
    "        p = F.softmax(out, dim=1).data\n",
    "        if(train_on_gpu):\n",
    "            p = p.cpu() # move to cpu\n",
    "        \n",
    "        # get top characters\n",
    "        if top_k is None:\n",
    "            top_ch = np.arange(len(net.chars))\n",
    "        else:\n",
    "            p, top_ch = p.topk(top_k)\n",
    "            top_ch = top_ch.numpy().squeeze()\n",
    "        \n",
    "        # select the likely next character with some element of randomness\n",
    "        p = p.numpy().squeeze()\n",
    "        char = np.random.choice(top_ch, p=p/p.sum())\n",
    "        \n",
    "        # return the encoded value of the predicted char and the hidden state\n",
    "        return net.int2char[char], h"
   ]
  },
  {
   "cell_type": "markdown",
   "metadata": {},
   "source": [
    "### Priming and generating text \n",
    "\n",
    "Typically you'll want to prime the network so you can build up a hidden state. Otherwise the network will start out generating characters at random. In general the first bunch of characters will be a little rough since it hasn't built up a long history of characters to predict from."
   ]
  },
  {
   "cell_type": "code",
   "execution_count": 23,
   "metadata": {},
   "outputs": [],
   "source": [
    "def sample(net, size, prime='The', top_k=None):\n",
    "        \n",
    "    if(train_on_gpu):\n",
    "        net.cuda()\n",
    "    else:\n",
    "        net.cpu()\n",
    "    \n",
    "    # First off, run through the prime characters\n",
    "    chars = [ch for ch in prime]\n",
    "    h = net.init_hidden(1)\n",
    "    for ch in prime:\n",
    "        char, h = predict(net, ch, h, top_k=top_k)\n",
    "\n",
    "    chars.append(char)\n",
    "    \n",
    "    # Now pass in the previous character and get a new one\n",
    "    for ii in range(size):\n",
    "        char, h = predict(net, chars[-1], h, top_k=top_k)\n",
    "        chars.append(char)\n",
    "\n",
    "    return ''.join(chars)"
   ]
  },
  {
   "cell_type": "code",
   "execution_count": 24,
   "metadata": {},
   "outputs": [
    {
     "name": "stdout",
     "output_type": "stream",
     "text": [
      "Anna Alexatder Anna and her friendsite of an enchiance, and what was sater to her. She heard everything and sixceptible for housh. If then see only and some sensated and his soun, always some left of those weary. It whist happened, he had been sonny wirdly and\n",
      "drave of though tweren at the sigar, the sleepings had chanced that the pition objung when Levin\n",
      "disopposed in the subjects in the sunder that\n",
      "this was\n",
      "all the superbecte of the way out of a young parestied of the same sincere. She said he had to care, and the sone he fangined that in his would, with their station as they were never liked to help her from her at any depend frethed, and the med of the coldness of his\n",
      "school with their little pressing of the despair, things of his breedings, and a preaty face\n",
      "timed her sister and seemed, and with an answer to the steam on the prince, and treeding her at\n",
      "the late. He came his house, that it had been too. And the chorse had been a sight of\n",
      "the printispiears, half in histerior that he\n",
      "cons\n"
     ]
    }
   ],
   "source": [
    "print(sample(net, 1000, prime='Anna', top_k=5))"
   ]
  },
  {
   "cell_type": "markdown",
   "metadata": {},
   "source": [
    "## Loading a checkpoint"
   ]
  },
  {
   "cell_type": "code",
   "execution_count": 25,
   "metadata": {},
   "outputs": [],
   "source": [
    "# Here we have loaded in a model that trained over 20 epochs `rnn_20_epoch.net`\n",
    "with open('rnn_20_epoch.net', 'rb') as f:\n",
    "    checkpoint = torch.load(f)\n",
    "    \n",
    "loaded = CharRNN(checkpoint['tokens'], n_hidden=checkpoint['n_hidden'], n_layers=checkpoint['n_layers'])\n",
    "loaded.load_state_dict(checkpoint['state_dict'])"
   ]
  },
  {
   "cell_type": "code",
   "execution_count": 26,
   "metadata": {},
   "outputs": [
    {
     "name": "stdout",
     "output_type": "stream",
     "text": [
      "And Levin said to the book of her and shoulders, well in him allote explaining againsiting to her friend this and servants had to listen to his angries,\n",
      "taking an irripation were so man would be abseet all that it was alone with him, and he was simed to him that it was so that in hard placed it all together her head and consequances of his word at Vronsky. He saw that it was to save him, but then the blace of the convacion who sawas of the confisment of this, itheed had been\n",
      "uppover of too, but he was a child and\n",
      "short things this too. And he talked of the particularl studien. Her children say now as though that when a given has sat down in the provouce.\n",
      "\n",
      "At the\n",
      "striggleres\n",
      "standing at her, where his clever were a suffering before him. She\n",
      "turned to him. The provinces, was though of whate his beht dispicts too. Had been troubled him and she taken\n",
      "his friends and\n",
      "cherkally and speceas of the feeling of he could sat down to her fread of her face. But he was staying some only on a little sister, as he had been, as she\n",
      "had to say to him, said what in the same discounting room with the same trees and the sacres who thinking at the bods. He had never sayed to her, and his hands and his wailth of his hands he was side out on a capital\n",
      "shiding. \"There are done with all the cart at these country. The drops that was anniour,. Without me,\" said the\n",
      "mention, and he did not keep his brother's exispence. Sergeed thought on harming, worded to him,\n",
      "without the floor and hearwanced of silly and sides, and a friends on his enesy, these sould on the\n",
      "carriage had never been about anything.\n",
      "\n",
      "Alexey Alexandrovitch walked with a smile that\n",
      "had been answering a choor had\n",
      "severe thrings of their countanic, and showings, and the previous of the princess\n",
      "had becaued\n",
      "the man and have to be to be. He had taken about.\n",
      "\n",
      "The\n",
      "more\n",
      "said: She went to thinks of alext of sorrurging his\n",
      "carreates, that interested her on where the\n",
      "morning that had never\n",
      "been admining that he could not see, and weaved to this.\n",
      "\n",
      "\n",
      "\n",
      "Chapte\n"
     ]
    }
   ],
   "source": [
    "# Sample using a loaded model\n",
    "print(sample(loaded, 2000, top_k=5, prime=\"And Levin said\"))"
   ]
  },
  {
   "cell_type": "code",
   "execution_count": null,
   "metadata": {
    "collapsed": true
   },
   "outputs": [],
   "source": []
  }
 ],
 "metadata": {
  "kernelspec": {
   "display_name": "Python 3",
   "language": "python",
   "name": "python3"
  },
  "language_info": {
   "codemirror_mode": {
    "name": "ipython",
    "version": 3
   },
   "file_extension": ".py",
   "mimetype": "text/x-python",
   "name": "python",
   "nbconvert_exporter": "python",
   "pygments_lexer": "ipython3",
   "version": "3.6.4"
  }
 },
 "nbformat": 4,
 "nbformat_minor": 2
}
